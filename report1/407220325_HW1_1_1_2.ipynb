{
 "cells": [
  {
   "cell_type": "code",
   "execution_count": 2,
   "metadata": {},
   "outputs": [],
   "source": [
    "import numpy as np\n",
    "import cv2"
   ]
  },
  {
   "cell_type": "markdown",
   "metadata": {},
   "source": [
    "<font size=\"16\">HW1</font>"
   ]
  },
  {
   "cell_type": "code",
   "execution_count": 7,
   "metadata": {},
   "outputs": [
    {
     "name": "stdout",
     "output_type": "stream",
     "text": [
      "[255]\n"
     ]
    }
   ],
   "source": [
    "print(img[511,511])"
   ]
  },
  {
   "cell_type": "code",
   "execution_count": 3,
   "metadata": {},
   "outputs": [
    {
     "data": {
      "text/plain": [
       "True"
      ]
     },
     "execution_count": 3,
     "metadata": {},
     "output_type": "execute_result"
    }
   ],
   "source": [
    "# 定義數位影像(全黑)\n",
    "img = np.zeros( [ 512, 512, 1 ], dtype = 'uint8' )\n",
    "\n",
    "start=0\n",
    "for x in range( 512 ):\n",
    "        if(x!=0):\n",
    "            if(x%4==0):\n",
    "                start=start+1\n",
    "        color=start\n",
    "        \n",
    "        for y in range( 512 ):\n",
    "            \n",
    "            if(y!=0):\n",
    "                if(y%4==0):\n",
    "                    color=color+1\n",
    "            img[x,y] = color\n",
    "                \n",
    "cv2.imwrite( \"hw1.bmp\", img )"
   ]
  },
  {
   "cell_type": "code",
   "execution_count": 5,
   "metadata": {},
   "outputs": [
    {
     "data": {
      "text/plain": [
       "True"
      ]
     },
     "execution_count": 5,
     "metadata": {},
     "output_type": "execute_result"
    }
   ],
   "source": [
    "# 定義數位影像(全黑)\n",
    "img = np.zeros( [ 512, 512, 1 ], dtype = 'uint8' )\n",
    "\n",
    "\n",
    "for i in range(512):\n",
    "    for j in range(512):\n",
    "        img[i,j]=(i+j)//4\n",
    "        \n",
    "cv2.imwrite( \"hw1_test.bmp\", img )"
   ]
  },
  {
   "cell_type": "markdown",
   "metadata": {},
   "source": [
    "<font size=\"16\">HW1-2</font>"
   ]
  },
  {
   "cell_type": "code",
   "execution_count": 21,
   "metadata": {},
   "outputs": [
    {
     "name": "stdout",
     "output_type": "stream",
     "text": [
      "0\n",
      "64\n",
      "128\n",
      "192\n",
      "256\n",
      "320\n",
      "384\n",
      "448\n"
     ]
    },
    {
     "data": {
      "text/plain": [
       "True"
      ]
     },
     "execution_count": 21,
     "metadata": {},
     "output_type": "execute_result"
    }
   ],
   "source": [
    "# 定義數位影像(全黑)\n",
    "start_row=0\n",
    "\n",
    "img = np.zeros( [ 512, 512, 4 ], dtype = 'uint8' )\n",
    "\n",
    "count=0\n",
    "for x in range(0,512,64):\n",
    "        print(x)\n",
    "        for y in range(0,512,64):\n",
    "            if(start_row+y>=0):\n",
    "                if(count%4==0):\n",
    "                    cv2.rectangle( img, ( x , start_row+y ), ( x+64 , start_row+y+64 ), ( 255 , 0 , 0), -1 )\n",
    "                elif(count%4==1):\n",
    "                    cv2.rectangle( img, ( x , start_row+y ), ( x+64 , start_row+y+64 ), ( 0 , 255 , 0 ), -1 )\n",
    "                elif(count%4==2):\n",
    "                    cv2.rectangle( img, ( x , start_row+y ), ( x+64 , start_row+y+64 ), ( 0 , 0 , 255 ), -1 )\n",
    "                else:\n",
    "                    cv2.rectangle( img, ( x , start_row+y ), ( x+64 , start_row+y+64 ), ( 255 , 255 , 255), -1 )\n",
    "            elif(start_row+y<0):\n",
    "                if(count%4==0):\n",
    "                    cv2.rectangle( img, ( x , start_row+y+512 ), ( x+64 , start_row+y+64+512 ), ( 255 , 0 , 0), -1 )\n",
    "                elif(count%4==1):\n",
    "                    cv2.rectangle( img, ( x , start_row+y+512 ), ( x+64 , start_row+y+64+512 ), ( 0 , 255 , 0 ), -1 )\n",
    "                elif(count%4==2):\n",
    "                    cv2.rectangle( img, ( x , start_row+y+512 ), ( x+64 , start_row+y+64+512 ), ( 0 , 0 , 255 ), -1 )\n",
    "                else:\n",
    "                    cv2.rectangle( img, ( x , start_row+y+512 ), ( x+64 , start_row+y+64+512 ), ( 255 , 255 , 255), -1 )\n",
    "            count+=1\n",
    "        start_row=start_row-64\n",
    "        \n",
    "cv2.imwrite( \"hw1_2.bmp\", img )"
   ]
  },
  {
   "cell_type": "code",
   "execution_count": 31,
   "metadata": {},
   "outputs": [
    {
     "name": "stdout",
     "output_type": "stream",
     "text": [
      "[  0   0 255   0]\n"
     ]
    }
   ],
   "source": [
    "print(img[447,0])"
   ]
  },
  {
   "cell_type": "code",
   "execution_count": null,
   "metadata": {},
   "outputs": [],
   "source": []
  },
  {
   "cell_type": "code",
   "execution_count": null,
   "metadata": {},
   "outputs": [],
   "source": []
  }
 ],
 "metadata": {
  "kernelspec": {
   "display_name": "Python 3",
   "language": "python",
   "name": "python3"
  },
  "language_info": {
   "codemirror_mode": {
    "name": "ipython",
    "version": 3
   },
   "file_extension": ".py",
   "mimetype": "text/x-python",
   "name": "python",
   "nbconvert_exporter": "python",
   "pygments_lexer": "ipython3",
   "version": "3.7.6"
  }
 },
 "nbformat": 4,
 "nbformat_minor": 4
}
