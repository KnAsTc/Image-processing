{
 "cells": [
  {
   "cell_type": "markdown",
   "metadata": {},
   "source": [
    "3.1 Image Formation Model"
   ]
  },
  {
   "cell_type": "code",
   "execution_count": 1,
   "metadata": {},
   "outputs": [],
   "source": [
    "import numpy as np\n",
    "import cv2\n",
    "\n",
    "def image_formation_model( f, x0, y0, sigma ):\n",
    "    g = f.copy( )\n",
    "    nr, nc = f.shape[:2]\n",
    "    illumination = np.zeros( [ nr, nc ], dtype = 'float32' )\n",
    "    for x in range( nr ):\n",
    "        for y in range( nc ):\n",
    "            illumination[x,y] = np.floor(255*np.exp( -( ( x - x0 ) ** 2 + ( y - y0 ) ** 2 ) / \n",
    "                                 ( 2 * sigma * sigma ) ))\n",
    "    for x in range( nr ):\n",
    "        for y in range( nc ):\n",
    "            for k in range( 3 ):\n",
    "                val = round( illumination[x,y] * f[x,y,k] )\n",
    "                g[x,y,k] = np.uint8( val )\n",
    "    return illumination\n",
    "\n",
    "def main( ):\n",
    "    img = cv2.imread( \"Monet.bmp\", -1 )\n",
    "    nr, nc = img.shape[:2]\n",
    "    x0 = nr/2+200\n",
    "    y0 = nc/2\n",
    "    sigma = 100\n",
    "    img2 = image_formation_model( img, x0, y0, sigma )\n",
    "    cv2.imwrite( \"Monet_illumination.bmp\", img2 )  \n",
    "\n",
    "main( )"
   ]
  },
  {
   "cell_type": "markdown",
   "metadata": {},
   "source": [
    "3.2 Image Downsampling"
   ]
  },
  {
   "cell_type": "code",
   "execution_count": 6,
   "metadata": {},
   "outputs": [],
   "source": [
    "import numpy as np\n",
    "import cv2\n",
    "\n",
    "def image_downsampling( f, sampling_rate ):\n",
    "    nr, nc = f.shape[:2]\n",
    "    nr_s, nc_s = nr // sampling_rate, nc // sampling_rate\n",
    "    g = np.zeros( [ nr_s, nc_s ], dtype = 'uint8' )\n",
    "    for x in range( nr_s ):\n",
    "        for y in range( nc_s ):\n",
    "            g[x,y] = f[x * sampling_rate, y * sampling_rate]\n",
    "    return g\n",
    "\n",
    "def main( ):\n",
    "    img1 = cv2.imread( \"Barbara.bmp\", -1 )\n",
    "    img2 = image_downsampling( img1, 4 )\n",
    "    cv2.imwrite( \"Barbara_Down.bmp\", img2 )  \n",
    "\n",
    "main( )"
   ]
  },
  {
   "cell_type": "markdown",
   "metadata": {},
   "source": [
    "3.3 Image Quantization"
   ]
  },
  {
   "cell_type": "code",
   "execution_count": 7,
   "metadata": {},
   "outputs": [],
   "source": [
    "import numpy as np\n",
    "import cv2\n",
    "\n",
    "def image_quantization( f, bits ):\n",
    "    g = f.copy( )\n",
    "    nr, nc = f.shape[:2]\n",
    "    levels = 2 ** bits\n",
    "    interval = 256 / levels\n",
    "    gray_level_interval = 255 / ( levels - 1 )\n",
    "    table = np.zeros( 256 )\n",
    "    for k in range( 256 ):\n",
    "        for l in range( levels ):\n",
    "            if k >= l * interval and l < ( l + 1 ) * interval:\n",
    "                table[k] = round( l * gray_level_interval ) \n",
    "    for x in range( nr ):\n",
    "        for y in range( nc ):\n",
    "            g[x,y] = np.uint8( table[f[x,y]] )\n",
    "    return g\n",
    "\n",
    "def main( ):\n",
    "    img1 = cv2.imread( \"Lenna.bmp\", -1 )\n",
    "    img2 = image_quantization( img1, 3 )\n",
    "    cv2.imwrite( \"Lenna_Quan.bmp\", img2 )  \n",
    "\n",
    "main( )"
   ]
  },
  {
   "cell_type": "markdown",
   "metadata": {},
   "source": [
    "<font color=\"Red\">3.4 Practice Complements(gray) </font>"
   ]
  },
  {
   "cell_type": "code",
   "execution_count": 32,
   "metadata": {},
   "outputs": [],
   "source": [
    "import numpy as np\n",
    "import cv2\n",
    "\n",
    "def image_complement( f ):\n",
    "    nr, nc = f.shape[:2]\n",
    "    g = np.zeros( [ nr, nc ], dtype = 'uint8' )\n",
    "    g = 255-f\n",
    "    return g\n",
    "\n",
    "def image_union( f, g ):\n",
    "    nr, nc = f.shape[:2]\n",
    "    u = np.zeros( [ nr, nc ], dtype = 'uint8' )\n",
    "    for x in range(nr):\n",
    "        for y in range(nc):\n",
    "            u[x,y] = max(g[x,y],f[x,y])\n",
    "    return u\n",
    "\n",
    "def main( ):\n",
    "    img1 = cv2.imread( \"Barbara.bmp\", -1 )\n",
    "    img2 = image_complement( img1 )\n",
    "    cv2.imwrite( \"Barbara_Complement.bmp\", img2 )  \n",
    "    img3 = image_union( img1, img2 )\n",
    "    cv2.imwrite( \"Barbara_Union.bmp\", img3 )  \n",
    "\n",
    "main( )"
   ]
  },
  {
   "cell_type": "markdown",
   "metadata": {},
   "source": [
    "<font color=\"Red\">3.5 Practice Complements(color) </font>"
   ]
  },
  {
   "cell_type": "code",
   "execution_count": 1,
   "metadata": {},
   "outputs": [],
   "source": [
    "import numpy as np\n",
    "import cv2\n",
    "\n",
    "def image_complement( f ):\n",
    "    nr, nc = f.shape[:2]\n",
    "    g = np.zeros( [ nr, nc , 3], dtype = 'uint8' )\n",
    "    g = 255-f\n",
    "    return g\n",
    "\n",
    "def image_union( f, g ):\n",
    "    nr, nc = f.shape[:2]\n",
    "    u = np.zeros( [ nr, nc ,3], dtype = 'uint8' )\n",
    "    for z in range(3):\n",
    "        for x in range(nr):\n",
    "            for y in range(nc):\n",
    "                u[x,y,z] = max(g[x,y,z],f[x,y,z])\n",
    "    return u\n",
    "\n",
    "def main( ):\n",
    "    img1 = cv2.imread( \"Baboon.bmp\", -1 )\n",
    "    img2 = image_complement( img1 )\n",
    "    cv2.imwrite( \"Baboon_Complement.bmp\", img2 )  \n",
    "    img3 = image_union( img1, img2 )\n",
    "    cv2.imwrite( \"Baboon_Union.bmp\", img3 )  \n",
    "\n",
    "main( )"
   ]
  },
  {
   "cell_type": "markdown",
   "metadata": {},
   "source": [
    "3.6 Image Scaling"
   ]
  },
  {
   "cell_type": "code",
   "execution_count": 8,
   "metadata": {},
   "outputs": [
    {
     "name": "stdout",
     "output_type": "stream",
     "text": [
      "Please enter scale: 1.5\n"
     ]
    },
    {
     "data": {
      "text/plain": [
       "True"
      ]
     },
     "execution_count": 8,
     "metadata": {},
     "output_type": "execute_result"
    }
   ],
   "source": [
    "import numpy as np\n",
    "import cv2\n",
    "\n",
    "img1 = cv2.imread( \"Lenna.bmp\", -1 )\n",
    "nr, nc = img1.shape[:2]\n",
    "scale = eval( input( \"Please enter scale: \" ) )\n",
    "nr2 = int( nr * scale )\n",
    "nc2 = int( nc * scale )\n",
    "img2 = cv2.resize( img1, ( nr2, nc2 ), interpolation = cv2.INTER_LINEAR )\n",
    "cv2.imwrite( \"Lenna_ori.bmp\", img1 )  \n",
    "cv2.imwrite( \"Lenna_scaling.bmp\", img2 )  \n"
   ]
  },
  {
   "cell_type": "markdown",
   "metadata": {},
   "source": [
    "interpolation 選項所用的插值方法\n",
    "INTER_NEAREST 最近鄰插值\n",
    "INTER_LINEAR 雙線性插值（默認設置）\n",
    "INTER_AREA 使用像素區域關係進行重採樣。可能是圖像抽取的首選方法，因它會產生無雲紋理的結果。但是當圖像縮放時，它類似於INTER_NEAREST方法。\n",
    "INTER_CUBIC 4x4像素鄰域的雙三次插值\n",
    "INTER_LANCZOS4 8x8像素鄰域的Lanczos插值"
   ]
  },
  {
   "cell_type": "markdown",
   "metadata": {},
   "source": [
    "3.7 Image Rescaling"
   ]
  },
  {
   "cell_type": "code",
   "execution_count": 4,
   "metadata": {},
   "outputs": [
    {
     "data": {
      "text/plain": [
       "True"
      ]
     },
     "execution_count": 4,
     "metadata": {},
     "output_type": "execute_result"
    }
   ],
   "source": [
    "import numpy as np\n",
    "import cv2\n",
    "\n",
    "img = cv2.imread( \"Baboon.bmp\", 0 )\n",
    "nr1, nc1 = img.shape[:2]\n",
    "nr2, nc2 = nr1 // 4, nc1 // 4\n",
    "img1 = cv2.resize( img, ( nr2, nc2 ), interpolation = cv2.INTER_NEAREST )\n",
    "img1 = cv2.resize( img1, ( nr1, nc1 ), interpolation = cv2.INTER_NEAREST )\n",
    "img2 = cv2.resize( img, ( nr2, nc2 ), interpolation = cv2.INTER_LINEAR )\n",
    "img2 = cv2.resize( img2, ( nr1, nc1 ), interpolation = cv2.INTER_LINEAR )\n",
    "img3 = cv2.resize( img, ( nr2, nc2 ), interpolation = cv2.INTER_CUBIC )\n",
    "img3 = cv2.resize( img3, ( nr1, nc1 ), interpolation = cv2.INTER_CUBIC )\n",
    "cv2.imwrite( \"Baboon_ori.bmp\", img ) \n",
    "cv2.imwrite( \"Baboon_NN.bmp\", img1 )  \n",
    "cv2.imwrite( \"Baboon_Bilinear.bmp\", img2 )  \n",
    "cv2.imwrite( \"Baboon_Bicubic.bmp\", img3 )  \n"
   ]
  },
  {
   "cell_type": "markdown",
   "metadata": {},
   "source": [
    "<font color=\"Red\">Practice 3-8: PSNR</font> <p>\n",
    "Design a PSNR function to measure the difference between \n",
    "(img,img1), (img,img2), and (img,img3)<p>\n",
    "<img src=\"https://4.bp.blogspot.com/-82C6B1wcYz0/UvIjcJ4S6TI/AAAAAAAABCY/OwGVIQwgUAc/s1600/fig1.PNG\"></p>"
   ]
  },
  {
   "cell_type": "code",
   "execution_count": 5,
   "metadata": {},
   "outputs": [
    {
     "name": "stdout",
     "output_type": "stream",
     "text": [
      "PSNR between origin and Nearest Neighbor 17.57302656330855\n",
      "PSNR between origin and Bilinear 20.55827625676485\n",
      "PSNR between origin and Bicubic 19.49410245097318\n"
     ]
    }
   ],
   "source": [
    "import numpy as np\n",
    "import math\n",
    "import cv2\n",
    "\n",
    "def psnr(I, K):\n",
    "    MSE=0\n",
    "    MSE=np.float64(MSE)\n",
    "    PSNR=0\n",
    "    PSNR=np.float64(PSNR)\n",
    "    sum=0\n",
    "    sum=np.float64(sum)\n",
    "    m, n = img1.shape[:2]\n",
    "    for i in range(m):\n",
    "        for j in range(n):\n",
    "            sum += np.power((np.float64(I[i,j]) - np.float64(K[i,j])),2)\n",
    "    MSE = sum / (m*n)\n",
    "    PSNR=10*np.log10(np.power(255,2)/MSE)                     \n",
    "    return PSNR\n",
    "\n",
    "img = cv2.imread( \"Baboon_ori.bmp\", 0)\n",
    "img1 = cv2.imread(\"Baboon_NN.bmp\",0)\n",
    "img2 = cv2.imread(\"Baboon_Bilinear.bmp\",0)\n",
    "img3 = cv2.imread(\"Baboon_Bicubic.bmp\",0)\n",
    "\n",
    "psnr1 = psnr(img,img1)\n",
    "psnr2 = psnr(img,img2)\n",
    "psnr3 = psnr(img,img3)\n",
    "print(\"PSNR between origin and Nearest Neighbor\",psnr1)\n",
    "print(\"PSNR between origin and Bilinear\",psnr2)\n",
    "print(\"PSNR between origin and Bicubic\",psnr3)"
   ]
  },
  {
   "cell_type": "code",
   "execution_count": 31,
   "metadata": {},
   "outputs": [
    {
     "name": "stdout",
     "output_type": "stream",
     "text": [
      "<class 'numpy.float64'>\n",
      "<class 'numpy.float64'>\n",
      "<class 'float'>\n",
      "<class 'float'>\n"
     ]
    }
   ],
   "source": [
    "import numpy as np\n",
    "import math\n",
    "n=1\n",
    "n=np.log10(n)\n",
    "print(type(n))\n",
    "n=np.power(n,2)\n",
    "print(type(n))\n",
    "n=math.pow(n,2)\n",
    "print(type(n))\n",
    "n=1\n",
    "n=math.log(n,10)\n",
    "print(type(n))"
   ]
  },
  {
   "cell_type": "markdown",
   "metadata": {},
   "source": [
    "3.9 Image Rotation"
   ]
  },
  {
   "cell_type": "code",
   "execution_count": 40,
   "metadata": {},
   "outputs": [
    {
     "data": {
      "text/plain": [
       "True"
      ]
     },
     "execution_count": 40,
     "metadata": {},
     "output_type": "execute_result"
    }
   ],
   "source": [
    "import numpy as np\n",
    "import cv2\n",
    "\n",
    "img1 = cv2.imread( \"Lenna.bmp\", -1 )\n",
    "nr2, nc2 = img1.shape[:2]\n",
    "rotation_matrix = cv2.getRotationMatrix2D( ( nr2 / 2, nc2 / 2 ), 45, 1 )\n",
    "img2 = cv2.warpAffine( img1, rotation_matrix, ( nr2, nc2 ) ) \n",
    "cv2.imwrite( \"Lenna_Rotation.bmp\", img2)  "
   ]
  },
  {
   "cell_type": "markdown",
   "metadata": {},
   "source": [
    "3.10 Image Flip"
   ]
  },
  {
   "cell_type": "code",
   "execution_count": 41,
   "metadata": {},
   "outputs": [
    {
     "data": {
      "text/plain": [
       "True"
      ]
     },
     "execution_count": 41,
     "metadata": {},
     "output_type": "execute_result"
    }
   ],
   "source": [
    "import numpy as np\n",
    "import cv2\n",
    "\n",
    "img = cv2.imread( \"Baboon.bmp\", -1 )\n",
    "img1 = cv2.flip( img, 0 )\n",
    "img2 = cv2.flip( img, 1 )\n",
    "img3 = cv2.flip( img, -1 )\n",
    "cv2.imwrite( \"Baboon_flip1.bmp\", img1) \n",
    "cv2.imwrite( \"Baboon_flip2.bmp\", img2) \n",
    "cv2.imwrite( \"Baboon_flip3.bmp\", img3) "
   ]
  },
  {
   "cell_type": "markdown",
   "metadata": {},
   "source": [
    "3.11 Perspective Transform"
   ]
  },
  {
   "cell_type": "code",
   "execution_count": 67,
   "metadata": {},
   "outputs": [
    {
     "data": {
      "text/plain": [
       "True"
      ]
     },
     "execution_count": 67,
     "metadata": {},
     "output_type": "execute_result"
    }
   ],
   "source": [
    "import numpy as np\n",
    "import cv2\n",
    "\n",
    "img1 = cv2.imread( \"Gallery.bmp\", -1 )\n",
    "nr, nc = img1.shape[:2]\n",
    "pts1 = np.float32( [ [ 795, 350 ], [ 795, 690 ], [ 1090, 720 ], [ 1090, 250 ] ] )\n",
    "pts2 = np.float32( [ [ 0, 0 ], [ 0, 500 ], [ 650, 500 ], [ 650, 0 ] ] )\n",
    "T = cv2.getPerspectiveTransform( pts1, pts2 )\n",
    "img2 = cv2.warpPerspective( img1, T, ( 650, 500 ) )\n",
    "\n",
    "cv2.imwrite( \"Gallery_perspec.bmp\", img2 )\n"
   ]
  },
  {
   "cell_type": "markdown",
   "metadata": {},
   "source": [
    "<font color=\"Red\">3.12 Practice:Perspective transform </font>\n",
    "<img src=\"Gallery.bmp\" width=\"200px\" height=\"200px\">\n",
    "<img src=\"Gallery_perspec_hw.bmp\" width=\"200px\" height=\"200px\">"
   ]
  },
  {
   "cell_type": "code",
   "execution_count": 72,
   "metadata": {},
   "outputs": [
    {
     "data": {
      "text/plain": [
       "True"
      ]
     },
     "execution_count": 72,
     "metadata": {},
     "output_type": "execute_result"
    }
   ],
   "source": [
    "import numpy as np\n",
    "import cv2\n",
    "\n",
    "img1 = cv2.imread( \"Gallery.bmp\", -1 )\n",
    "nr, nc = img1.shape[:2]\n",
    "pts1 = np.float32( [ [ 1425, 572 ], [ 1425, 1109 ], [ 1824, 1222 ], [ 1824, 552 ] ] )\n",
    "'''小畫家抓點'''\n",
    "pts2 = np.float32( [ [ 0, 0 ], [ 0, 500 ], [ 650, 500 ], [ 650, 0 ] ] )\n",
    "T = cv2.getPerspectiveTransform( pts1, pts2 )\n",
    "img2 = cv2.warpPerspective( img1, T, ( 650, 500 ) )\n",
    "\n",
    "cv2.imwrite( \"Gallery_perspec_HHW.bmp\", img2 )"
   ]
  },
  {
   "cell_type": "markdown",
   "metadata": {},
   "source": [
    "<script type=\"text/javascript\" src=\"ASCIIMathML.js\"> </script>\n"
   ]
  },
  {
   "cell_type": "markdown",
   "metadata": {},
   "source": [
    "<font color=\"Red\">3.13 </font>"
   ]
  },
  {
   "cell_type": "markdown",
   "metadata": {},
   "source": [
    "<!DOCTYPE html><html><head><title>MathJax TeX Test Page</title><script type=\"text/x-mathjax-config\">  MathJax.Hub.Config({tex2jax: {inlineMath: [['$','$'], ['\\\\(','\\\\)']]}});</script><script type=\"text/javascript\"  src=\"http://cdn.mathjax.org/mathjax/latest/MathJax.js?config=TeX-AMS-\n",
    "    MML_HTMLorMML\"></script></head>\n",
    "<p>$$inverse \\begin{bmatrix}\n",
    "X\\\\\n",
    "Y\\\\\n",
    "\\end{bmatrix} =\\begin{bmatrix}\n",
    "X'\\\\\n",
    "Y'\\\\\n",
    "\\end{bmatrix}\n",
    "\\begin{bmatrix}\n",
    "cos\\theta& sin\\theta \\\\\n",
    "-sin\\theta&cos\\theta\\\\\n",
    "\\end{bmatrix}\n",
    "$$</p>\n",
    "<p>$$Ori$$<p/>\n",
    "<p>$$X'=(X-X_0)cos\\theta-(Y-Y_0)sin\\theta$$</p><p>$$Y' = (X-X_0)sin\\theta+(Y-Y_0)cos\\theta$$</p></html>\n",
    "<p>$$inverse$$<p/>\n",
    "<p>$$X-X_0=X'cos\\theta+Y'sin\\theta$$</p><p>$$Y-Y_0=-X'sin\\theta-Y'cos\\theta$$</p></html>"
   ]
  },
  {
   "cell_type": "code",
   "execution_count": null,
   "metadata": {},
   "outputs": [],
   "source": []
  }
 ],
 "metadata": {
  "kernelspec": {
   "display_name": "Python 3",
   "language": "python",
   "name": "python3"
  },
  "language_info": {
   "codemirror_mode": {
    "name": "ipython",
    "version": 3
   },
   "file_extension": ".py",
   "mimetype": "text/x-python",
   "name": "python",
   "nbconvert_exporter": "python",
   "pygments_lexer": "ipython3",
   "version": "3.7.6"
  }
 },
 "nbformat": 4,
 "nbformat_minor": 2
}
